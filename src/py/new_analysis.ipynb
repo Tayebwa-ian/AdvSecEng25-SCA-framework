{
 "cells": [
  {
   "cell_type": "code",
   "execution_count": 2,
   "id": "9e3347c3",
   "metadata": {},
   "outputs": [],
   "source": [
    "import numpy as np\n",
    "import chipwhisperer as cw\n",
    "import chipwhisperer.analyzer as cwa\n",
    "from chipwhisperer.analyzer.attacks.models.aes.key_schedule import key_schedule_rounds\n",
    "import os"
   ]
  },
  {
   "cell_type": "markdown",
   "id": "2735d62f",
   "metadata": {},
   "source": [
    "## Intialize ChipWhisperer Analyzer Module"
   ]
  },
  {
   "cell_type": "code",
   "execution_count": 3,
   "id": "63861e00",
   "metadata": {},
   "outputs": [
    {
     "name": "stdout",
     "output_type": "stream",
     "text": [
      "Processing and appending traces to the project...\n",
      "Successfully processed 2000 traces.\n"
     ]
    }
   ],
   "source": [
    "# Load data file\n",
    "data = np.load(\"data/traces_1.npz\", allow_pickle=True)\n",
    "plaintexts = data['dut_io_data']\n",
    "ciphertexts = data['dut_io_computed_data']\n",
    "traces = data['wave']\n",
    "\n",
    "# Create a dummy key of the same length\n",
    "key_placeholder = bytearray(16)\n",
    "\n",
    "# Create the CW project and append traces\n",
    "# Make sure the 'data/traces_1' directory exists\n",
    "if not os.path.exists(\"data/traces_1\"):\n",
    "    os.makedirs(\"data/traces_1\")\n",
    "    \n",
    "proj = cw.create_project(\"data/traces_1/CW_305.cwp\", overwrite=True)\n",
    "\n",
    "print(\"Processing and appending traces to the project...\")\n",
    "for i, (wave, pt_raw, ct_raw) in enumerate(zip(traces, plaintexts, ciphertexts)):\n",
    "    pt = pt_raw\n",
    "    ct = ct_raw\n",
    "    \n",
    "    # Sanity check: ensure all blocks have the correct fixed length\n",
    "    assert len(pt) == 16 and len(ct) == 16, \\\n",
    "           f\"Trace {i}: Got pt/ct lengths {len(pt)}/{len(ct)}, expected {16}\"\n",
    "           \n",
    "    proj.traces.append(cw.Trace(wave, pt, ct, key_placeholder))\n",
    "\n",
    "print(f\"Successfully processed {len(proj.traces)} traces.\")\n",
    "#proj.save()  # save the project for later use\n"
   ]
  },
  {
   "cell_type": "markdown",
   "id": "3fb71bb5",
   "metadata": {},
   "source": [
    "### Perform a CPA attack on the Last round"
   ]
  },
  {
   "cell_type": "code",
   "execution_count": 4,
   "id": "2c5d1374",
   "metadata": {},
   "outputs": [
    {
     "data": {
      "text/html": [
       "<style type=\"text/css\">\n",
       "#T_c204d_row3_col3 {\n",
       "  color: red;\n",
       "}\n",
       "</style>\n",
       "<table id=\"T_c204d\">\n",
       "  <caption>Finished traces 1975 to 2000</caption>\n",
       "  <thead>\n",
       "    <tr>\n",
       "      <th class=\"blank level0\" >&nbsp;</th>\n",
       "      <th id=\"T_c204d_level0_col0\" class=\"col_heading level0 col0\" >0</th>\n",
       "      <th id=\"T_c204d_level0_col1\" class=\"col_heading level0 col1\" >1</th>\n",
       "      <th id=\"T_c204d_level0_col2\" class=\"col_heading level0 col2\" >2</th>\n",
       "      <th id=\"T_c204d_level0_col3\" class=\"col_heading level0 col3\" >3</th>\n",
       "      <th id=\"T_c204d_level0_col4\" class=\"col_heading level0 col4\" >4</th>\n",
       "      <th id=\"T_c204d_level0_col5\" class=\"col_heading level0 col5\" >5</th>\n",
       "      <th id=\"T_c204d_level0_col6\" class=\"col_heading level0 col6\" >6</th>\n",
       "      <th id=\"T_c204d_level0_col7\" class=\"col_heading level0 col7\" >7</th>\n",
       "      <th id=\"T_c204d_level0_col8\" class=\"col_heading level0 col8\" >8</th>\n",
       "      <th id=\"T_c204d_level0_col9\" class=\"col_heading level0 col9\" >9</th>\n",
       "      <th id=\"T_c204d_level0_col10\" class=\"col_heading level0 col10\" >10</th>\n",
       "      <th id=\"T_c204d_level0_col11\" class=\"col_heading level0 col11\" >11</th>\n",
       "      <th id=\"T_c204d_level0_col12\" class=\"col_heading level0 col12\" >12</th>\n",
       "      <th id=\"T_c204d_level0_col13\" class=\"col_heading level0 col13\" >13</th>\n",
       "      <th id=\"T_c204d_level0_col14\" class=\"col_heading level0 col14\" >14</th>\n",
       "      <th id=\"T_c204d_level0_col15\" class=\"col_heading level0 col15\" >15</th>\n",
       "    </tr>\n",
       "  </thead>\n",
       "  <tbody>\n",
       "    <tr>\n",
       "      <th id=\"T_c204d_level0_row0\" class=\"row_heading level0 row0\" >PGE=</th>\n",
       "      <td id=\"T_c204d_row0_col0\" class=\"data row0 col0\" >177</td>\n",
       "      <td id=\"T_c204d_row0_col1\" class=\"data row0 col1\" >117</td>\n",
       "      <td id=\"T_c204d_row0_col2\" class=\"data row0 col2\" >87</td>\n",
       "      <td id=\"T_c204d_row0_col3\" class=\"data row0 col3\" >2</td>\n",
       "      <td id=\"T_c204d_row0_col4\" class=\"data row0 col4\" >52</td>\n",
       "      <td id=\"T_c204d_row0_col5\" class=\"data row0 col5\" >217</td>\n",
       "      <td id=\"T_c204d_row0_col6\" class=\"data row0 col6\" >8</td>\n",
       "      <td id=\"T_c204d_row0_col7\" class=\"data row0 col7\" >116</td>\n",
       "      <td id=\"T_c204d_row0_col8\" class=\"data row0 col8\" >19</td>\n",
       "      <td id=\"T_c204d_row0_col9\" class=\"data row0 col9\" >93</td>\n",
       "      <td id=\"T_c204d_row0_col10\" class=\"data row0 col10\" >135</td>\n",
       "      <td id=\"T_c204d_row0_col11\" class=\"data row0 col11\" >218</td>\n",
       "      <td id=\"T_c204d_row0_col12\" class=\"data row0 col12\" >48</td>\n",
       "      <td id=\"T_c204d_row0_col13\" class=\"data row0 col13\" >94</td>\n",
       "      <td id=\"T_c204d_row0_col14\" class=\"data row0 col14\" >88</td>\n",
       "      <td id=\"T_c204d_row0_col15\" class=\"data row0 col15\" >172</td>\n",
       "    </tr>\n",
       "    <tr>\n",
       "      <th id=\"T_c204d_level0_row1\" class=\"row_heading level0 row1\" >0</th>\n",
       "      <td id=\"T_c204d_row1_col0\" class=\"data row1 col0\" >D5<br>0.175</td>\n",
       "      <td id=\"T_c204d_row1_col1\" class=\"data row1 col1\" >5E<br>0.169</td>\n",
       "      <td id=\"T_c204d_row1_col2\" class=\"data row1 col2\" >84<br>0.189</td>\n",
       "      <td id=\"T_c204d_row1_col3\" class=\"data row1 col3\" >A7<br>0.209</td>\n",
       "      <td id=\"T_c204d_row1_col4\" class=\"data row1 col4\" >43<br>0.202</td>\n",
       "      <td id=\"T_c204d_row1_col5\" class=\"data row1 col5\" >25<br>0.201</td>\n",
       "      <td id=\"T_c204d_row1_col6\" class=\"data row1 col6\" >20<br>0.170</td>\n",
       "      <td id=\"T_c204d_row1_col7\" class=\"data row1 col7\" >BC<br>0.138</td>\n",
       "      <td id=\"T_c204d_row1_col8\" class=\"data row1 col8\" >C0<br>0.135</td>\n",
       "      <td id=\"T_c204d_row1_col9\" class=\"data row1 col9\" >24<br>0.212</td>\n",
       "      <td id=\"T_c204d_row1_col10\" class=\"data row1 col10\" >83<br>0.198</td>\n",
       "      <td id=\"T_c204d_row1_col11\" class=\"data row1 col11\" >88<br>0.181</td>\n",
       "      <td id=\"T_c204d_row1_col12\" class=\"data row1 col12\" >1D<br>0.188</td>\n",
       "      <td id=\"T_c204d_row1_col13\" class=\"data row1 col13\" >15<br>0.156</td>\n",
       "      <td id=\"T_c204d_row1_col14\" class=\"data row1 col14\" >88<br>0.169</td>\n",
       "      <td id=\"T_c204d_row1_col15\" class=\"data row1 col15\" >00<br>0.151</td>\n",
       "    </tr>\n",
       "    <tr>\n",
       "      <th id=\"T_c204d_level0_row2\" class=\"row_heading level0 row2\" >1</th>\n",
       "      <td id=\"T_c204d_row2_col0\" class=\"data row2 col0\" >E8<br>0.088</td>\n",
       "      <td id=\"T_c204d_row2_col1\" class=\"data row2 col1\" >EC<br>0.100</td>\n",
       "      <td id=\"T_c204d_row2_col2\" class=\"data row2 col2\" >1B<br>0.091</td>\n",
       "      <td id=\"T_c204d_row2_col3\" class=\"data row2 col3\" >84<br>0.089</td>\n",
       "      <td id=\"T_c204d_row2_col4\" class=\"data row2 col4\" >8A<br>0.099</td>\n",
       "      <td id=\"T_c204d_row2_col5\" class=\"data row2 col5\" >CB<br>0.096</td>\n",
       "      <td id=\"T_c204d_row2_col6\" class=\"data row2 col6\" >68<br>0.090</td>\n",
       "      <td id=\"T_c204d_row2_col7\" class=\"data row2 col7\" >E0<br>0.095</td>\n",
       "      <td id=\"T_c204d_row2_col8\" class=\"data row2 col8\" >97<br>0.097</td>\n",
       "      <td id=\"T_c204d_row2_col9\" class=\"data row2 col9\" >46<br>0.101</td>\n",
       "      <td id=\"T_c204d_row2_col10\" class=\"data row2 col10\" >3B<br>0.092</td>\n",
       "      <td id=\"T_c204d_row2_col11\" class=\"data row2 col11\" >60<br>0.090</td>\n",
       "      <td id=\"T_c204d_row2_col12\" class=\"data row2 col12\" >29<br>0.089</td>\n",
       "      <td id=\"T_c204d_row2_col13\" class=\"data row2 col13\" >73<br>0.102</td>\n",
       "      <td id=\"T_c204d_row2_col14\" class=\"data row2 col14\" >3F<br>0.094</td>\n",
       "      <td id=\"T_c204d_row2_col15\" class=\"data row2 col15\" >18<br>0.107</td>\n",
       "    </tr>\n",
       "    <tr>\n",
       "      <th id=\"T_c204d_level0_row3\" class=\"row_heading level0 row3\" >2</th>\n",
       "      <td id=\"T_c204d_row3_col0\" class=\"data row3 col0\" >4A<br>0.086</td>\n",
       "      <td id=\"T_c204d_row3_col1\" class=\"data row3 col1\" >24<br>0.099</td>\n",
       "      <td id=\"T_c204d_row3_col2\" class=\"data row3 col2\" >46<br>0.088</td>\n",
       "      <td id=\"T_c204d_row3_col3\" class=\"data row3 col3\" >CB<br>0.081</td>\n",
       "      <td id=\"T_c204d_row3_col4\" class=\"data row3 col4\" >BD<br>0.089</td>\n",
       "      <td id=\"T_c204d_row3_col5\" class=\"data row3 col5\" >53<br>0.093</td>\n",
       "      <td id=\"T_c204d_row3_col6\" class=\"data row3 col6\" >71<br>0.085</td>\n",
       "      <td id=\"T_c204d_row3_col7\" class=\"data row3 col7\" >FE<br>0.091</td>\n",
       "      <td id=\"T_c204d_row3_col8\" class=\"data row3 col8\" >AC<br>0.090</td>\n",
       "      <td id=\"T_c204d_row3_col9\" class=\"data row3 col9\" >F7<br>0.090</td>\n",
       "      <td id=\"T_c204d_row3_col10\" class=\"data row3 col10\" >76<br>0.089</td>\n",
       "      <td id=\"T_c204d_row3_col11\" class=\"data row3 col11\" >CE<br>0.089</td>\n",
       "      <td id=\"T_c204d_row3_col12\" class=\"data row3 col12\" >E0<br>0.087</td>\n",
       "      <td id=\"T_c204d_row3_col13\" class=\"data row3 col13\" >E2<br>0.098</td>\n",
       "      <td id=\"T_c204d_row3_col14\" class=\"data row3 col14\" >5E<br>0.086</td>\n",
       "      <td id=\"T_c204d_row3_col15\" class=\"data row3 col15\" >B0<br>0.101</td>\n",
       "    </tr>\n",
       "    <tr>\n",
       "      <th id=\"T_c204d_level0_row4\" class=\"row_heading level0 row4\" >3</th>\n",
       "      <td id=\"T_c204d_row4_col0\" class=\"data row4 col0\" >0B<br>0.084</td>\n",
       "      <td id=\"T_c204d_row4_col1\" class=\"data row4 col1\" >F9<br>0.090</td>\n",
       "      <td id=\"T_c204d_row4_col2\" class=\"data row4 col2\" >7B<br>0.087</td>\n",
       "      <td id=\"T_c204d_row4_col3\" class=\"data row4 col3\" >5E<br>0.081</td>\n",
       "      <td id=\"T_c204d_row4_col4\" class=\"data row4 col4\" >5A<br>0.086</td>\n",
       "      <td id=\"T_c204d_row4_col5\" class=\"data row4 col5\" >F6<br>0.089</td>\n",
       "      <td id=\"T_c204d_row4_col6\" class=\"data row4 col6\" >43<br>0.083</td>\n",
       "      <td id=\"T_c204d_row4_col7\" class=\"data row4 col7\" >E7<br>0.083</td>\n",
       "      <td id=\"T_c204d_row4_col8\" class=\"data row4 col8\" >EA<br>0.081</td>\n",
       "      <td id=\"T_c204d_row4_col9\" class=\"data row4 col9\" >55<br>0.087</td>\n",
       "      <td id=\"T_c204d_row4_col10\" class=\"data row4 col10\" >67<br>0.086</td>\n",
       "      <td id=\"T_c204d_row4_col11\" class=\"data row4 col11\" >2D<br>0.086</td>\n",
       "      <td id=\"T_c204d_row4_col12\" class=\"data row4 col12\" >EF<br>0.087</td>\n",
       "      <td id=\"T_c204d_row4_col13\" class=\"data row4 col13\" >1C<br>0.096</td>\n",
       "      <td id=\"T_c204d_row4_col14\" class=\"data row4 col14\" >C8<br>0.084</td>\n",
       "      <td id=\"T_c204d_row4_col15\" class=\"data row4 col15\" >F3<br>0.093</td>\n",
       "    </tr>\n",
       "    <tr>\n",
       "      <th id=\"T_c204d_level0_row5\" class=\"row_heading level0 row5\" >4</th>\n",
       "      <td id=\"T_c204d_row5_col0\" class=\"data row5 col0\" >0C<br>0.084</td>\n",
       "      <td id=\"T_c204d_row5_col1\" class=\"data row5 col1\" >1D<br>0.087</td>\n",
       "      <td id=\"T_c204d_row5_col2\" class=\"data row5 col2\" >76<br>0.082</td>\n",
       "      <td id=\"T_c204d_row5_col3\" class=\"data row5 col3\" >2A<br>0.081</td>\n",
       "      <td id=\"T_c204d_row5_col4\" class=\"data row5 col4\" >01<br>0.084</td>\n",
       "      <td id=\"T_c204d_row5_col5\" class=\"data row5 col5\" >52<br>0.089</td>\n",
       "      <td id=\"T_c204d_row5_col6\" class=\"data row5 col6\" >AA<br>0.081</td>\n",
       "      <td id=\"T_c204d_row5_col7\" class=\"data row5 col7\" >3D<br>0.082</td>\n",
       "      <td id=\"T_c204d_row5_col8\" class=\"data row5 col8\" >9B<br>0.081</td>\n",
       "      <td id=\"T_c204d_row5_col9\" class=\"data row5 col9\" >DD<br>0.086</td>\n",
       "      <td id=\"T_c204d_row5_col10\" class=\"data row5 col10\" >EA<br>0.086</td>\n",
       "      <td id=\"T_c204d_row5_col11\" class=\"data row5 col11\" >32<br>0.086</td>\n",
       "      <td id=\"T_c204d_row5_col12\" class=\"data row5 col12\" >0B<br>0.083</td>\n",
       "      <td id=\"T_c204d_row5_col13\" class=\"data row5 col13\" >A4<br>0.094</td>\n",
       "      <td id=\"T_c204d_row5_col14\" class=\"data row5 col14\" >67<br>0.083</td>\n",
       "      <td id=\"T_c204d_row5_col15\" class=\"data row5 col15\" >0C<br>0.088</td>\n",
       "    </tr>\n",
       "  </tbody>\n",
       "</table>\n"
      ],
      "text/plain": [
       "<pandas.io.formats.style.Styler at 0x2515d1d3350>"
      ]
     },
     "metadata": {},
     "output_type": "display_data"
    },
    {
     "name": "stdout",
     "output_type": "stream",
     "text": [
      "\n",
      "--- Attack Results ---\n",
      "Recovered key-byte guesses: Subkey KGuess Correlation\n",
      "  00    0xD5    0.17502\n",
      "  01    0x5E    0.16914\n",
      "  02    0x84    0.18881\n",
      "  03    0xA7    0.20878\n",
      "  04    0x43    0.20177\n",
      "  05    0x25    0.20134\n",
      "  06    0x20    0.17032\n",
      "  07    0xBC    0.13765\n",
      "  08    0xC0    0.13475\n",
      "  09    0x24    0.21179\n",
      "  10    0x83    0.19846\n",
      "  11    0x88    0.18064\n",
      "  12    0x1D    0.18807\n",
      "  13    0x15    0.15575\n",
      "  14    0x88    0.16866\n",
      "  15    0x00    0.15085\n",
      "\n"
     ]
    }
   ],
   "source": [
    "print(\"Instantiating and running CPA attack...\")\n",
    "# Set leakage model:\n",
    "leak_model = cwa.leakage_models.last_round_state_diff\n",
    "# Instantiate and run CPA\n",
    "attack = cwa.cpa(proj, leak_model)\n",
    "cb = cwa.get_jupyter_callback(attack)\n",
    "best_guesses = attack.run(cb)\n",
    "\n",
    "print(\"\\n--- Attack Results ---\")\n",
    "print(\"Recovered key-byte guesses:\", best_guesses)"
   ]
  },
  {
   "cell_type": "markdown",
   "id": "7f177628",
   "metadata": {},
   "source": [
    "### Perform reverse schedule operation to recover the real Key"
   ]
  },
  {
   "cell_type": "code",
   "execution_count": 5,
   "id": "1152815a",
   "metadata": {},
   "outputs": [
    {
     "name": "stdout",
     "output_type": "stream",
     "text": [
      "0x100xa50x880x690xd70x4b0xe50xa30x740xcf0x860x7c0xfb0x470x380x59"
     ]
    }
   ],
   "source": [
    "recv_lastroundkey = [kguess[0][0] for kguess in best_guesses.find_maximums()]\n",
    "recv_key = key_schedule_rounds(recv_lastroundkey, 10, 0)\n",
    "for subkey in recv_key:\n",
    "    print(hex(subkey), end=\"\")"
   ]
  }
 ],
 "metadata": {
  "kernelspec": {
   "display_name": "venv",
   "language": "python",
   "name": "python3"
  },
  "language_info": {
   "codemirror_mode": {
    "name": "ipython",
    "version": 3
   },
   "file_extension": ".py",
   "mimetype": "text/x-python",
   "name": "python",
   "nbconvert_exporter": "python",
   "pygments_lexer": "ipython3",
   "version": "3.11.9"
  }
 },
 "nbformat": 4,
 "nbformat_minor": 5
}
